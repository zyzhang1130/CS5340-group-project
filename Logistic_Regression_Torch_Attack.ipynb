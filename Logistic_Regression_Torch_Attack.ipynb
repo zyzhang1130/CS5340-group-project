{
  "nbformat": 4,
  "nbformat_minor": 0,
  "metadata": {
    "kernelspec": {
      "display_name": "Python 3",
      "language": "python",
      "name": "python3"
    },
    "language_info": {
      "codemirror_mode": {
        "name": "ipython",
        "version": 3
      },
      "file_extension": ".py",
      "mimetype": "text/x-python",
      "name": "python",
      "nbconvert_exporter": "python",
      "pygments_lexer": "ipython3",
      "version": "3.8.5"
    },
    "colab": {
      "name": "Logistic Regression Torch Attack v2.ipynb",
      "provenance": [],
      "toc_visible": true
    },
    "accelerator": "GPU"
  },
  "cells": [
    {
      "cell_type": "markdown",
      "metadata": {
        "id": "houzvCG5ey9a"
      },
      "source": [
        "# References\n",
        "\n",
        "[Logistic Regression on MNIST](https://towardsdatascience.com/logistic-regression-on-mnist-with-pytorch-b048327f8d19)"
      ]
    },
    {
      "cell_type": "markdown",
      "metadata": {
        "id": "1g9rCTz_fvX_"
      },
      "source": [
        "# (1) Load the required packages\n"
      ]
    },
    {
      "cell_type": "code",
      "metadata": {
        "colab": {
          "base_uri": "https://localhost:8080/"
        },
        "id": "PqGbPjVie3XP",
        "outputId": "b5e3f3f5-cc4c-4dc6-854f-fe977cc316ff"
      },
      "source": [
        "!pip install foolbox"
      ],
      "execution_count": 14,
      "outputs": [
        {
          "output_type": "stream",
          "text": [
            "Requirement already satisfied: foolbox in /usr/local/lib/python3.7/dist-packages (3.3.1)\n",
            "Requirement already satisfied: numpy in /usr/local/lib/python3.7/dist-packages (from foolbox) (1.19.5)\n",
            "Requirement already satisfied: typing-extensions>=3.7.4.1 in /usr/local/lib/python3.7/dist-packages (from foolbox) (3.7.4.3)\n",
            "Requirement already satisfied: eagerpy==0.29.0 in /usr/local/lib/python3.7/dist-packages (from foolbox) (0.29.0)\n",
            "Requirement already satisfied: setuptools in /usr/local/lib/python3.7/dist-packages (from foolbox) (54.2.0)\n",
            "Requirement already satisfied: scipy in /usr/local/lib/python3.7/dist-packages (from foolbox) (1.4.1)\n",
            "Requirement already satisfied: GitPython>=3.0.7 in /usr/local/lib/python3.7/dist-packages (from foolbox) (3.1.14)\n",
            "Requirement already satisfied: requests>=2.24.0 in /usr/local/lib/python3.7/dist-packages (from foolbox) (2.25.1)\n",
            "Requirement already satisfied: gitdb<5,>=4.0.1 in /usr/local/lib/python3.7/dist-packages (from GitPython>=3.0.7->foolbox) (4.0.7)\n",
            "Requirement already satisfied: chardet<5,>=3.0.2 in /usr/local/lib/python3.7/dist-packages (from requests>=2.24.0->foolbox) (3.0.4)\n",
            "Requirement already satisfied: certifi>=2017.4.17 in /usr/local/lib/python3.7/dist-packages (from requests>=2.24.0->foolbox) (2020.12.5)\n",
            "Requirement already satisfied: idna<3,>=2.5 in /usr/local/lib/python3.7/dist-packages (from requests>=2.24.0->foolbox) (2.10)\n",
            "Requirement already satisfied: urllib3<1.27,>=1.21.1 in /usr/local/lib/python3.7/dist-packages (from requests>=2.24.0->foolbox) (1.24.3)\n",
            "Requirement already satisfied: smmap<5,>=3.0.1 in /usr/local/lib/python3.7/dist-packages (from gitdb<5,>=4.0.1->GitPython>=3.0.7->foolbox) (4.0.0)\n"
          ],
          "name": "stdout"
        }
      ]
    },
    {
      "cell_type": "code",
      "metadata": {
        "id": "uNNxA_M02f3d"
      },
      "source": [
        "import torch\n",
        "from torch.utils.data import DataLoader\n",
        "from torchvision.datasets import MNIST\n",
        "import torchvision.transforms as transforms\n",
        "\n",
        "import time\n",
        "import torch.nn as nn\n",
        "import numpy as np\n",
        "from foolbox import PyTorchModel, accuracy, samples, plot, criteria, distances\n",
        "import foolbox.attacks as fa\n",
        "import torchvision.models as models\n",
        "import eagerpy as ep\n",
        "import matplotlib.pyplot as plt\n",
        "import foolbox as fb"
      ],
      "execution_count": 15,
      "outputs": []
    },
    {
      "cell_type": "code",
      "metadata": {
        "id": "ieLY4ozT2es_"
      },
      "source": [
        "device = 'cuda' if torch.cuda.is_available() else 'cpu'"
      ],
      "execution_count": 16,
      "outputs": []
    },
    {
      "cell_type": "markdown",
      "metadata": {
        "id": "TWz965j3e_JV"
      },
      "source": [
        "# (2) Setup the Logistic Regression model"
      ]
    },
    {
      "cell_type": "code",
      "metadata": {
        "id": "TmxyTFQzfE0n"
      },
      "source": [
        "class LogisticRegression(torch.nn.Module):\n",
        "    def __init__(self, input_size, num_classes):\n",
        "        super(LogisticRegression, self).__init__()\n",
        "        self.linear = torch.nn.Linear(input_size, num_classes)\n",
        "        \n",
        "    def forward(self, x):\n",
        "        x = x.reshape(x.shape[0], -1)\n",
        "        out = self.linear(x)\n",
        "        return out"
      ],
      "execution_count": 17,
      "outputs": []
    },
    {
      "cell_type": "markdown",
      "metadata": {
        "id": "At8AHOppfHSl"
      },
      "source": [
        "# (3) Train the model"
      ]
    },
    {
      "cell_type": "markdown",
      "metadata": {
        "id": "s1pre_PffPMs"
      },
      "source": [
        "## (3a) Prepare the MNIST dataset"
      ]
    },
    {
      "cell_type": "code",
      "metadata": {
        "id": "KZP-NrMk2etA"
      },
      "source": [
        "batch_size = 100\n",
        "\n",
        "train_dataset = MNIST(root='.',\n",
        "                               train=True,\n",
        "                               transform=transforms.ToTensor(),\n",
        "                               download=True,\n",
        "                              )\n",
        "test_dataset = MNIST(root='.',\n",
        "                              train=False,\n",
        "                              transform=transforms.ToTensor(),\n",
        "                              download=True,\n",
        "                              )\n",
        "\n",
        "train_loader = DataLoader(dataset=train_dataset,\n",
        "                          batch_size=batch_size,\n",
        "                          shuffle=True,\n",
        "                         )\n",
        "test_loader = DataLoader(dataset=test_dataset,\n",
        "                         batch_size=batch_size,\n",
        "                         shuffle=False,\n",
        "                        )\n"
      ],
      "execution_count": 18,
      "outputs": []
    },
    {
      "cell_type": "markdown",
      "metadata": {
        "id": "Dn_XjxsZfN6n"
      },
      "source": [
        "## (3b) Train the model"
      ]
    },
    {
      "cell_type": "code",
      "metadata": {
        "id": "8-59AK3J2etA"
      },
      "source": [
        "input_size = 784\n",
        "num_classes = 10\n",
        "num_epochs = 25\n",
        "lr = 0.001"
      ],
      "execution_count": 19,
      "outputs": []
    },
    {
      "cell_type": "code",
      "metadata": {
        "id": "JNlLhrui2etB"
      },
      "source": [
        "logReg_model = LogisticRegression(input_size, num_classes).to(device)\n",
        "\n",
        "criterion = torch.nn.CrossEntropyLoss()\n",
        "\n",
        "optimizer = torch.optim.SGD(logReg_model.parameters(), lr=lr)"
      ],
      "execution_count": 20,
      "outputs": []
    },
    {
      "cell_type": "code",
      "metadata": {
        "colab": {
          "base_uri": "https://localhost:8080/"
        },
        "id": "oe56KBpy2etB",
        "outputId": "630d92e9-117a-4569-df7e-37f3c9ec6b09"
      },
      "source": [
        "itr = 0\n",
        "report_req = 100\n",
        "for epoch in range(num_epochs):\n",
        "    for (images, labels) in train_loader:\n",
        "        images = images.reshape(-1, input_size).to(device)\n",
        "        labels = labels.to(device)\n",
        "        \n",
        "        optimizer.zero_grad()\n",
        "        outputs = logReg_model(images)\n",
        "        loss = criterion(outputs, labels)\n",
        "        loss.backward()\n",
        "        optimizer.step()\n",
        "        \n",
        "        if itr % report_req == 0:\n",
        "            print(f'Epoch: {epoch+1}; Step: {itr+1}; Loss: {loss:.5f}')\n",
        "            \n",
        "        itr += 1"
      ],
      "execution_count": 21,
      "outputs": [
        {
          "output_type": "stream",
          "text": [
            "Epoch: 1; Step: 1; Loss: 2.27732\n",
            "Epoch: 1; Step: 101; Loss: 2.20088\n",
            "Epoch: 1; Step: 201; Loss: 2.06650\n",
            "Epoch: 1; Step: 301; Loss: 2.00924\n",
            "Epoch: 1; Step: 401; Loss: 1.89472\n",
            "Epoch: 1; Step: 501; Loss: 1.88048\n",
            "Epoch: 2; Step: 601; Loss: 1.78726\n",
            "Epoch: 2; Step: 701; Loss: 1.71464\n",
            "Epoch: 2; Step: 801; Loss: 1.63312\n",
            "Epoch: 2; Step: 901; Loss: 1.58551\n",
            "Epoch: 2; Step: 1001; Loss: 1.61335\n",
            "Epoch: 2; Step: 1101; Loss: 1.43171\n",
            "Epoch: 3; Step: 1201; Loss: 1.37884\n",
            "Epoch: 3; Step: 1301; Loss: 1.40031\n",
            "Epoch: 3; Step: 1401; Loss: 1.39878\n",
            "Epoch: 3; Step: 1501; Loss: 1.24374\n",
            "Epoch: 3; Step: 1601; Loss: 1.39727\n",
            "Epoch: 3; Step: 1701; Loss: 1.22967\n",
            "Epoch: 4; Step: 1801; Loss: 1.26823\n",
            "Epoch: 4; Step: 1901; Loss: 1.25857\n",
            "Epoch: 4; Step: 2001; Loss: 1.16621\n",
            "Epoch: 4; Step: 2101; Loss: 1.17693\n",
            "Epoch: 4; Step: 2201; Loss: 1.15802\n",
            "Epoch: 4; Step: 2301; Loss: 1.13293\n",
            "Epoch: 5; Step: 2401; Loss: 1.12106\n",
            "Epoch: 5; Step: 2501; Loss: 1.04897\n",
            "Epoch: 5; Step: 2601; Loss: 1.04692\n",
            "Epoch: 5; Step: 2701; Loss: 1.09648\n",
            "Epoch: 5; Step: 2801; Loss: 1.02216\n",
            "Epoch: 5; Step: 2901; Loss: 0.94176\n",
            "Epoch: 6; Step: 3001; Loss: 0.96042\n",
            "Epoch: 6; Step: 3101; Loss: 0.96698\n",
            "Epoch: 6; Step: 3201; Loss: 1.00655\n",
            "Epoch: 6; Step: 3301; Loss: 0.94535\n",
            "Epoch: 6; Step: 3401; Loss: 0.95700\n",
            "Epoch: 6; Step: 3501; Loss: 0.93945\n",
            "Epoch: 7; Step: 3601; Loss: 0.87359\n",
            "Epoch: 7; Step: 3701; Loss: 0.78733\n",
            "Epoch: 7; Step: 3801; Loss: 0.85465\n",
            "Epoch: 7; Step: 3901; Loss: 0.95002\n",
            "Epoch: 7; Step: 4001; Loss: 0.95697\n",
            "Epoch: 7; Step: 4101; Loss: 0.78578\n",
            "Epoch: 8; Step: 4201; Loss: 0.79457\n",
            "Epoch: 8; Step: 4301; Loss: 0.89323\n",
            "Epoch: 8; Step: 4401; Loss: 0.80052\n",
            "Epoch: 8; Step: 4501; Loss: 0.89737\n",
            "Epoch: 8; Step: 4601; Loss: 0.85653\n",
            "Epoch: 8; Step: 4701; Loss: 0.77377\n",
            "Epoch: 9; Step: 4801; Loss: 0.86323\n",
            "Epoch: 9; Step: 4901; Loss: 0.81546\n",
            "Epoch: 9; Step: 5001; Loss: 0.76492\n",
            "Epoch: 9; Step: 5101; Loss: 0.80786\n",
            "Epoch: 9; Step: 5201; Loss: 0.82125\n",
            "Epoch: 9; Step: 5301; Loss: 0.68800\n",
            "Epoch: 10; Step: 5401; Loss: 0.83161\n",
            "Epoch: 10; Step: 5501; Loss: 0.74616\n",
            "Epoch: 10; Step: 5601; Loss: 0.78479\n",
            "Epoch: 10; Step: 5701; Loss: 0.66580\n",
            "Epoch: 10; Step: 5801; Loss: 0.82571\n",
            "Epoch: 10; Step: 5901; Loss: 0.70808\n",
            "Epoch: 11; Step: 6001; Loss: 0.84824\n",
            "Epoch: 11; Step: 6101; Loss: 0.87856\n",
            "Epoch: 11; Step: 6201; Loss: 0.70099\n",
            "Epoch: 11; Step: 6301; Loss: 0.71182\n",
            "Epoch: 11; Step: 6401; Loss: 0.60170\n",
            "Epoch: 11; Step: 6501; Loss: 0.76676\n",
            "Epoch: 12; Step: 6601; Loss: 0.77089\n",
            "Epoch: 12; Step: 6701; Loss: 0.72905\n",
            "Epoch: 12; Step: 6801; Loss: 0.73230\n",
            "Epoch: 12; Step: 6901; Loss: 0.86111\n",
            "Epoch: 12; Step: 7001; Loss: 0.68326\n",
            "Epoch: 12; Step: 7101; Loss: 0.71247\n",
            "Epoch: 13; Step: 7201; Loss: 0.63402\n",
            "Epoch: 13; Step: 7301; Loss: 0.72312\n",
            "Epoch: 13; Step: 7401; Loss: 0.71274\n",
            "Epoch: 13; Step: 7501; Loss: 0.64311\n",
            "Epoch: 13; Step: 7601; Loss: 0.66282\n",
            "Epoch: 13; Step: 7701; Loss: 0.54832\n",
            "Epoch: 14; Step: 7801; Loss: 0.52175\n",
            "Epoch: 14; Step: 7901; Loss: 0.61382\n",
            "Epoch: 14; Step: 8001; Loss: 0.63922\n",
            "Epoch: 14; Step: 8101; Loss: 0.64420\n",
            "Epoch: 14; Step: 8201; Loss: 0.66844\n",
            "Epoch: 14; Step: 8301; Loss: 0.60991\n",
            "Epoch: 15; Step: 8401; Loss: 0.67025\n",
            "Epoch: 15; Step: 8501; Loss: 0.59706\n",
            "Epoch: 15; Step: 8601; Loss: 0.66663\n",
            "Epoch: 15; Step: 8701; Loss: 0.76750\n",
            "Epoch: 15; Step: 8801; Loss: 0.77985\n",
            "Epoch: 15; Step: 8901; Loss: 0.60321\n",
            "Epoch: 16; Step: 9001; Loss: 0.50736\n",
            "Epoch: 16; Step: 9101; Loss: 0.59850\n",
            "Epoch: 16; Step: 9201; Loss: 0.61641\n",
            "Epoch: 16; Step: 9301; Loss: 0.73581\n",
            "Epoch: 16; Step: 9401; Loss: 0.63195\n",
            "Epoch: 16; Step: 9501; Loss: 0.75127\n",
            "Epoch: 17; Step: 9601; Loss: 0.67253\n",
            "Epoch: 17; Step: 9701; Loss: 0.67094\n",
            "Epoch: 17; Step: 9801; Loss: 0.53364\n",
            "Epoch: 17; Step: 9901; Loss: 0.56863\n",
            "Epoch: 17; Step: 10001; Loss: 0.55383\n",
            "Epoch: 17; Step: 10101; Loss: 0.51109\n",
            "Epoch: 18; Step: 10201; Loss: 0.64710\n",
            "Epoch: 18; Step: 10301; Loss: 0.52765\n",
            "Epoch: 18; Step: 10401; Loss: 0.61291\n",
            "Epoch: 18; Step: 10501; Loss: 0.63318\n",
            "Epoch: 18; Step: 10601; Loss: 0.45364\n",
            "Epoch: 18; Step: 10701; Loss: 0.68038\n",
            "Epoch: 19; Step: 10801; Loss: 0.51940\n",
            "Epoch: 19; Step: 10901; Loss: 0.69627\n",
            "Epoch: 19; Step: 11001; Loss: 0.51414\n",
            "Epoch: 19; Step: 11101; Loss: 0.65156\n",
            "Epoch: 19; Step: 11201; Loss: 0.63497\n",
            "Epoch: 19; Step: 11301; Loss: 0.51275\n",
            "Epoch: 20; Step: 11401; Loss: 0.53092\n",
            "Epoch: 20; Step: 11501; Loss: 0.52178\n",
            "Epoch: 20; Step: 11601; Loss: 0.54157\n",
            "Epoch: 20; Step: 11701; Loss: 0.42654\n",
            "Epoch: 20; Step: 11801; Loss: 0.53141\n",
            "Epoch: 20; Step: 11901; Loss: 0.66919\n",
            "Epoch: 21; Step: 12001; Loss: 0.62865\n",
            "Epoch: 21; Step: 12101; Loss: 0.54091\n",
            "Epoch: 21; Step: 12201; Loss: 0.58677\n",
            "Epoch: 21; Step: 12301; Loss: 0.57848\n",
            "Epoch: 21; Step: 12401; Loss: 0.52788\n",
            "Epoch: 21; Step: 12501; Loss: 0.52211\n",
            "Epoch: 22; Step: 12601; Loss: 0.55733\n",
            "Epoch: 22; Step: 12701; Loss: 0.58777\n",
            "Epoch: 22; Step: 12801; Loss: 0.54285\n",
            "Epoch: 22; Step: 12901; Loss: 0.53378\n",
            "Epoch: 22; Step: 13001; Loss: 0.51834\n",
            "Epoch: 22; Step: 13101; Loss: 0.58991\n",
            "Epoch: 23; Step: 13201; Loss: 0.33951\n",
            "Epoch: 23; Step: 13301; Loss: 0.51098\n",
            "Epoch: 23; Step: 13401; Loss: 0.67966\n",
            "Epoch: 23; Step: 13501; Loss: 0.53140\n",
            "Epoch: 23; Step: 13601; Loss: 0.54676\n",
            "Epoch: 23; Step: 13701; Loss: 0.64956\n",
            "Epoch: 24; Step: 13801; Loss: 0.50076\n",
            "Epoch: 24; Step: 13901; Loss: 0.63271\n",
            "Epoch: 24; Step: 14001; Loss: 0.46311\n",
            "Epoch: 24; Step: 14101; Loss: 0.42797\n",
            "Epoch: 24; Step: 14201; Loss: 0.56550\n",
            "Epoch: 24; Step: 14301; Loss: 0.58999\n",
            "Epoch: 25; Step: 14401; Loss: 0.52839\n",
            "Epoch: 25; Step: 14501; Loss: 0.48323\n",
            "Epoch: 25; Step: 14601; Loss: 0.52774\n",
            "Epoch: 25; Step: 14701; Loss: 0.45640\n",
            "Epoch: 25; Step: 14801; Loss: 0.45640\n",
            "Epoch: 25; Step: 14901; Loss: 0.45557\n"
          ],
          "name": "stdout"
        }
      ]
    },
    {
      "cell_type": "markdown",
      "metadata": {
        "id": "U8CgPetyfeXI"
      },
      "source": [
        "## (3c) Test the model"
      ]
    },
    {
      "cell_type": "code",
      "metadata": {
        "colab": {
          "base_uri": "https://localhost:8080/"
        },
        "id": "zC8bgvm12etC",
        "outputId": "823664d9-b42c-4c30-adc0-f499c3190b46"
      },
      "source": [
        "correct = 0\n",
        "total = 0\n",
        "for (images, labels) in test_loader:\n",
        "    images = images.reshape(-1, input_size).to(device)\n",
        "    labels = labels.to(device)\n",
        "\n",
        "    outputs = logReg_model(images)\n",
        "\n",
        "    predicted = torch.argmax(outputs, 1)\n",
        "    \n",
        "    correct += torch.sum(predicted==labels)\n",
        "    total += labels.shape[0]\n",
        "\n",
        "acc = correct / total * 100\n",
        "print(f'Final accuracy is: {acc:.2f}%')"
      ],
      "execution_count": 22,
      "outputs": [
        {
          "output_type": "stream",
          "text": [
            "Final accuracy is: 87.99%\n"
          ],
          "name": "stdout"
        }
      ]
    },
    {
      "cell_type": "markdown",
      "metadata": {
        "id": "ReXZ6QEPfkZu"
      },
      "source": [
        "# (4) Perform the attack"
      ]
    },
    {
      "cell_type": "markdown",
      "metadata": {
        "id": "ZDJp_cG6gAgU"
      },
      "source": [
        "## (4a) Helper functions"
      ]
    },
    {
      "cell_type": "code",
      "metadata": {
        "id": "_ROhYoTI2etC"
      },
      "source": [
        "def plot_images(images):\n",
        "    fig, axs = plt.subplots(1, len(images), figsize=(24, 24))\n",
        "\n",
        "    for i, ax in enumerate(axs.flat):\n",
        "        image = images[i]\n",
        "        image = np.squeeze(image, axis=0)\n",
        "        ax.matshow(image)\n",
        "        ax.axis('off')\n",
        "        ax.set_title(f'Image {i}')\n",
        "\n",
        "    fig.show()"
      ],
      "execution_count": 23,
      "outputs": []
    },
    {
      "cell_type": "markdown",
      "metadata": {
        "id": "QIM8SRdbgFg8"
      },
      "source": [
        "## (4b) Setup the PyTorchModel and do a simple test"
      ]
    },
    {
      "cell_type": "code",
      "metadata": {
        "colab": {
          "base_uri": "https://localhost:8080/",
          "height": 176
        },
        "id": "wRNzwVtS2etC",
        "outputId": "355b8fa3-227d-421c-bdb8-18cdedec9e16"
      },
      "source": [
        "model = logReg_model.eval()\n",
        "fmodel = PyTorchModel(model, bounds=(0, 1))\n",
        "batch_size = 20\n",
        "images, labels = samples(fmodel, dataset=\"mnist\", batchsize=20)\n",
        "\n",
        "clean_acc = accuracy(fmodel, images, labels)\n",
        "predictions = fmodel(images).argmax(-1)\n",
        "plot_images(images.cpu().numpy())\n",
        "print(\"labels     : \", [l for l in labels.cpu().numpy()])\n",
        "print(\"predictions: \", [l for l in predictions.cpu().numpy()])\n",
        "\n",
        "print(f\"clean accuracy:  {clean_acc * 100:.1f} %\")\n",
        "print(\"\")"
      ],
      "execution_count": 24,
      "outputs": [
        {
          "output_type": "stream",
          "text": [
            "labels     :  [7, 2, 1, 0, 4, 1, 4, 9, 5, 9, 0, 6, 9, 0, 1, 5, 9, 7, 3, 4]\n",
            "predictions:  [7, 2, 1, 0, 4, 1, 4, 9, 6, 9, 0, 6, 9, 0, 1, 5, 9, 7, 3, 4]\n",
            "clean accuracy:  95.0 %\n",
            "\n"
          ],
          "name": "stdout"
        },
        {
          "output_type": "display_data",
          "data": {
            "image/png": "[encoded data removed]",
            "text/plain": [
              "<Figure size 1728x1728 with 20 Axes>"
            ]
          },
          "metadata": {
            "tags": [],
            "needs_background": "light"
          }
        }
      ]
    },
    {
      "cell_type": "markdown",
      "metadata": {
        "id": "ncjGTUmzgQzl"
      },
      "source": [
        "## (4c) Start the actual attack"
      ]
    },
    {
      "cell_type": "code",
      "metadata": {
        "id": "KJ8GSd0i2etD",
        "colab": {
          "base_uri": "https://localhost:8080/",
          "height": 1000
        },
        "outputId": "79cedf13-aea0-4e57-f14e-fa2947206618"
      },
      "source": [
        "test_size = 1000  # assuming we are running 1000 tests for each attack\n",
        "batch_size = 200   # adjust your batch size according to memory limitation, as long as it's a divisor of 1000\n",
        "# test_size = 1000  # assuming we are running 1000 tests for each attack\n",
        "# batch_size = 50   # adjust your batch size according to memory limitation, as long as it's a divisor of 1000\n",
        "num_batch = int(test_size / batch_size)\n",
        "\n",
        "test_dataset = MNIST(root='./data', download=True, train=False, transform=transforms.ToTensor())\n",
        "test_dataloader = DataLoader(test_dataset, batch_size=batch_size, shuffle=False)\n",
        "\n",
        "Linf_epsilons = [\n",
        "    0.1,\n",
        "    0.2,\n",
        "    0.3,\n",
        "    0.4,\n",
        "    0.5\n",
        "]\n",
        "CW_epsilons = [\n",
        "    0.1,\n",
        "    1,\n",
        "    10,\n",
        "    100,\n",
        "    1000\n",
        "]\n",
        "L2_epsilons = [\n",
        "    1,\n",
        "    2,\n",
        "    3,\n",
        "    4,\n",
        "    5\n",
        "]\n",
        "attacks = [\n",
        "    # gradient-based attacks\n",
        "    {\"name\": \"Fast Gradient Method\", \"model\": fa.L2FastGradientAttack(), \"epsilons\": L2_epsilons},\n",
        "    {\"name\": \"Fast Gradient Sign Method\", \"model\": fa.LinfFastGradientAttack(), \"epsilons\": Linf_epsilons},\n",
        "    {\"name\": \"L2 Projected Gradient Descent\", \"model\": fa.L2ProjectedGradientDescentAttack(), \"epsilons\": L2_epsilons},\n",
        "    {\"name\": \"Linf Projected Gradient Descent\", \"model\": fa.LinfProjectedGradientDescentAttack(), \"epsilons\": Linf_epsilons},\n",
        "    {\"name\": \"Carlini & Wagner L2 Attack\", \"model\": fa.L2CarliniWagnerAttack(), \"epsilons\": CW_epsilons},\n",
        "    # # decision-based attacks\n",
        "    # {\"name\": \"Boundary Attack\", \"model\": fa.BoundaryAttack(), \"epsilons\": L2_epsilons}, \n",
        "    {\"name\": \"Additive Uniform Noise Attack\", \"model\": fa.LinfAdditiveUniformNoiseAttack(), \"epsilons\": Linf_epsilons},\n",
        "    {\"name\": \"Additive Gaussian Noise Attack\", \"model\": fa.L2AdditiveGaussianNoiseAttack(), \"epsilons\": L2_epsilons},\n",
        "    {\"name\": \"Linear Search Contrast Reduction Attack\", \"model\": fa.LinearSearchContrastReductionAttack(distance=distances.linf), \"epsilons\": Linf_epsilons}, \n",
        "    {\"name\": \"Binary Search Contrast Reduction Attack\", \"model\": fa.BinarySearchContrastReductionAttack(distance=distances.linf), \"epsilons\": Linf_epsilons}, \n",
        "    {\"name\": \"Gaussian Blur Attack\", \"model\": fa.GaussianBlurAttack(distance=distances.linf), \"epsilons\": Linf_epsilons}\n",
        "]\n",
        "\n",
        "fig, axs = plt.subplots(len(attacks))\n",
        "fig.tight_layout()\n",
        "\n",
        "attack_results = {}\n",
        "for attack in attacks:\n",
        "    attack_results[attack['name']] = None\n",
        "\n",
        "for i, attack in enumerate(attacks):\n",
        "    clean_accuracy = torch.zeros(num_batch)\n",
        "    robust_accuracy_batch = torch.zeros([num_batch, len(L2_epsilons)])\n",
        "    count = 0\n",
        "    t1 = time.time()\n",
        "    for images, labels in test_dataloader:\n",
        "        images = images.to(device)\n",
        "        labels = labels.to(device)\n",
        "        if count == num_batch:\n",
        "            break\n",
        "        images = ep.astensor(images)\n",
        "        labels = ep.astensor(labels)\n",
        "        clean_accuracy[count] = fb.utils.accuracy(fmodel, images, labels)\n",
        "\n",
        "        # The raw adversarial examples. This depends on the attack and we cannot make an guarantees about this output.\n",
        "        # The clipped adversarial examples. These are guaranteed to not be perturbed more than epsilon and thus are the actual adversarial examples you want to visualize. Note that some of them might not actually switch the class. To know which samples are actually adversarial, you should look at the third tensor.\n",
        "        # The third tensor contains a boolean for each sample, indicating which samples are true adversarials that are both misclassified and within the epsilon balls around the clean samples.\n",
        "        raw_adv, clipped_adv, is_adv = attack[\"model\"](fmodel, images, labels, epsilons=attack[\"epsilons\"])\n",
        "\n",
        "        success_ = is_adv.numpy()\n",
        "        robust_accuracy_batch[count] = torch.from_numpy(1.0 - success_.mean(axis=-1))\n",
        "\n",
        "        count += 1\n",
        "\n",
        "    t2 = time.time()\n",
        "    print(attack)\n",
        "    print(\"Clean accuracy: {:.5f}\".format(torch.mean(clean_accuracy)))\n",
        "    print(\"Average time taken for each test: {} seconds\".format((t2 - t1) / test_size))\n",
        "    robust_accuracy = torch.mean(robust_accuracy_batch, dim=0)\n",
        "    print(\"Accuracy with {} attack: {}\".format(attack[\"name\"], robust_accuracy))\n",
        "\n",
        "    attack_results[attack['name']] = robust_accuracy\n",
        "\n",
        "    # plot the robust accuracy against epsilons for the particular attack\n",
        "    axs[i].set_ylim([0, 1])\n",
        "    axs[i].plot(attack[\"epsilons\"], robust_accuracy.numpy())\n",
        "    axs[i].set_title(attack[\"name\"])"
      ],
      "execution_count": 27,
      "outputs": [
        {
          "output_type": "stream",
          "text": [
            "/usr/local/lib/python3.7/dist-packages/ipykernel_launcher.py:48: UserWarning: Tight layout not applied. tight_layout cannot make axes height small enough to accommodate all axes decorations\n"
          ],
          "name": "stderr"
        },
        {
          "output_type": "stream",
          "text": [
            "{'name': 'Fast Gradient Method', 'model': L2FastGradientAttack(rel_stepsize=1.0, abs_stepsize=None, steps=1, random_start=False), 'epsilons': [1, 2, 3, 4, 5]}\n",
            "Clean accuracy: 0.86000\n",
            "Average time taken for each test: 0.00018316411972045898 seconds\n",
            "Accuracy with Fast Gradient Method attack: tensor([0.6560, 0.3400, 0.0580, 0.0070, 0.0010])\n",
            "{'name': 'Fast Gradient Sign Method', 'model': LinfFastGradientAttack(rel_stepsize=1.0, abs_stepsize=None, steps=1, random_start=False), 'epsilons': [0.1, 0.2, 0.3, 0.4, 0.5]}\n",
            "Clean accuracy: 0.86000\n",
            "Average time taken for each test: 0.0001858975887298584 seconds\n",
            "Accuracy with Fast Gradient Sign Method attack: tensor([0.4230, 0.0220, 0.0000, 0.0000, 0.0000])\n",
            "{'name': 'L2 Projected Gradient Descent', 'model': L2ProjectedGradientDescentAttack(rel_stepsize=0.025, abs_stepsize=None, steps=50, random_start=True), 'epsilons': [1, 2, 3, 4, 5]}\n",
            "Clean accuracy: 0.86000\n",
            "Average time taken for each test: 0.0021656210422515867 seconds\n",
            "Accuracy with L2 Projected Gradient Descent attack: tensor([0.6350, 0.3290, 0.0520, 0.0040, 0.0000])\n",
            "{'name': 'Linf Projected Gradient Descent', 'model': LinfProjectedGradientDescentAttack(rel_stepsize=0.03333333333333333, abs_stepsize=None, steps=40, random_start=True), 'epsilons': [0.1, 0.2, 0.3, 0.4, 0.5]}\n",
            "Clean accuracy: 0.86000\n",
            "Average time taken for each test: 0.0011750199794769286 seconds\n",
            "Accuracy with Linf Projected Gradient Descent attack: tensor([0.4280, 0.0240, 0.0000, 0.0000, 0.0000])\n",
            "{'name': 'Carlini & Wagner L2 Attack', 'model': L2CarliniWagnerAttack(binary_search_steps=9, steps=10000, stepsize=0.01, confidence=0, initial_const=0.001, abort_early=True), 'epsilons': [0.1, 1, 10, 100, 1000]}\n",
            "Clean accuracy: 0.86000\n",
            "Average time taken for each test: 0.4303672475814819 seconds\n",
            "Accuracy with Carlini & Wagner L2 Attack attack: tensor([0.8390, 0.5750, 0.0000, 0.0000, 0.0000])\n",
            "{'name': 'Additive Uniform Noise Attack', 'model': LinfAdditiveUniformNoiseAttack(), 'epsilons': [0.1, 0.2, 0.3, 0.4, 0.5]}\n",
            "Clean accuracy: 0.86000\n",
            "Average time taken for each test: 0.00014947772026062013 seconds\n",
            "Accuracy with Additive Uniform Noise Attack attack: tensor([0.8650, 0.8560, 0.8610, 0.8530, 0.8250])\n",
            "{'name': 'Additive Gaussian Noise Attack', 'model': L2AdditiveGaussianNoiseAttack(), 'epsilons': [1, 2, 3, 4, 5]}\n",
            "Clean accuracy: 0.86000\n",
            "Average time taken for each test: 0.00016417026519775392 seconds\n",
            "Accuracy with Additive Gaussian Noise Attack attack: tensor([0.8570, 0.8560, 0.8600, 0.8600, 0.8610])\n",
            "{'name': 'Linear Search Contrast Reduction Attack', 'model': LinearSearchContrastReductionAttack(distance=Linf distance, steps=1000, target=0.5), 'epsilons': [0.1, 0.2, 0.3, 0.4, 0.5]}\n",
            "Clean accuracy: 0.86000\n",
            "Average time taken for each test: 0.002705106973648071 seconds\n",
            "Accuracy with Linear Search Contrast Reduction Attack attack: tensor([0.8380, 0.7810, 0.5200, 0.2240, 0.0950])\n",
            "{'name': 'Binary Search Contrast Reduction Attack', 'model': BinarySearchContrastReductionAttack(distance=Linf distance, binary_search_steps=15, target=0.5), 'epsilons': [0.1, 0.2, 0.3, 0.4, 0.5]}\n",
            "Clean accuracy: 0.86000\n",
            "Average time taken for each test: 0.00016992068290710448 seconds\n",
            "Accuracy with Binary Search Contrast Reduction Attack attack: tensor([0.8380, 0.7810, 0.5220, 0.2240, 0.0950])\n",
            "{'name': 'Gaussian Blur Attack', 'model': GaussianBlurAttack(distance=Linf distance, steps=1000, channel_axis=None, max_sigma=None), 'epsilons': [0.1, 0.2, 0.3, 0.4, 0.5]}\n",
            "Clean accuracy: 0.86000\n",
            "Average time taken for each test: 0.11511821365356445 seconds\n",
            "Accuracy with Gaussian Blur Attack attack: tensor([0.8470, 0.8420, 0.8350, 0.8210, 0.8000])\n"
          ],
          "name": "stdout"
        },
        {
          "output_type": "display_data",
          "data": {
            "image/png": "[encoded data removed]",
            "text/plain": [
              "<Figure size 432x288 with 10 Axes>"
            ]
          },
          "metadata": {
            "tags": [],
            "needs_background": "light"
          }
        }
      ]
    },
    {
      "cell_type": "code",
      "metadata": {
        "id": "9mF2aCkO2etE",
        "colab": {
          "base_uri": "https://localhost:8080/"
        },
        "outputId": "cb53d8f7-76f9-4c86-ffee-be36c4449acd"
      },
      "source": [
        "attack_results"
      ],
      "execution_count": 28,
      "outputs": [
        {
          "output_type": "execute_result",
          "data": {
            "text/plain": [
              "{'Additive Gaussian Noise Attack': tensor([0.8570, 0.8560, 0.8600, 0.8600, 0.8610]),\n",
              " 'Additive Uniform Noise Attack': tensor([0.8650, 0.8560, 0.8610, 0.8530, 0.8250]),\n",
              " 'Binary Search Contrast Reduction Attack': tensor([0.8380, 0.7810, 0.5220, 0.2240, 0.0950]),\n",
              " 'Carlini & Wagner L2 Attack': tensor([0.8390, 0.5750, 0.0000, 0.0000, 0.0000]),\n",
              " 'Fast Gradient Method': tensor([0.6560, 0.3400, 0.0580, 0.0070, 0.0010]),\n",
              " 'Fast Gradient Sign Method': tensor([0.4230, 0.0220, 0.0000, 0.0000, 0.0000]),\n",
              " 'Gaussian Blur Attack': tensor([0.8470, 0.8420, 0.8350, 0.8210, 0.8000]),\n",
              " 'L2 Projected Gradient Descent': tensor([0.6350, 0.3290, 0.0520, 0.0040, 0.0000]),\n",
              " 'Linear Search Contrast Reduction Attack': tensor([0.8380, 0.7810, 0.5200, 0.2240, 0.0950]),\n",
              " 'Linf Projected Gradient Descent': tensor([0.4280, 0.0240, 0.0000, 0.0000, 0.0000])}"
            ]
          },
          "metadata": {
            "tags": []
          },
          "execution_count": 28
        }
      ]
    },
    {
      "cell_type": "code",
      "metadata": {
        "id": "PKol_IUY2etE"
      },
      "source": [
        ""
      ],
      "execution_count": 25,
      "outputs": []
    }
  ]
}